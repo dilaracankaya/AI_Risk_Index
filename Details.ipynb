{
 "cells": [
  {
   "metadata": {},
   "cell_type": "markdown",
   "source": [
    "1. **Investment Sizes (40%):**\n",
    "\n",
    "Funding directed towards AI capabilities versus AI safety initiatives.\n",
    "\n",
    "Let's say in Q2 2024, the total investment in AI was USD 10 billion, with USD 6 billion directed towards AI capabilities and $4 billion towards AI safety.\n",
    "\n",
    "- AI Capabilities: 60%\n",
    "- AI Safety: 40%\n",
    "\n",
    "-- BURADA BİR HATA YAPMIŞ CHAT GPT, DÜZELTTİMİMSİ BAKMAK LAZIM\n",
    "- **Score Calculation:** 60% * 60 = 36 for Capabilities, 40% * 40 = 16 for Safety"
   ],
   "id": "ba7fbc082ab8e7fb"
  },
  {
   "metadata": {},
   "cell_type": "markdown",
   "source": [
    "2. **Regulatory Developments (30%):** \n",
    "\n",
    "-- THIS WILL BE TOUGH TO DO, STEP2 AFTER SENTIMENT ANALYSIS\n",
    "\n",
    "Introduction and implementation of regulations and guidelines aimed at ensuring AI safety.\n",
    "\n",
    "Evaluate the number and impact of regulations introduced. Suppose 3 major regulations were introduced, focusing on AI safety, with a strong impact score of 8 out of 10.\n",
    "\n",
    "- Regulatory Impact Score: 8/10\n",
    "\n",
    "\n",
    "- **Score Calculation:** (8 / 10) * 30 = 24 for Safety\n",
    "\n",
    "Is it at the presidential level? or just someone with power?\n",
    "\n"
   ],
   "id": "c8dc40a107b8c626"
  },
  {
   "metadata": {},
   "cell_type": "markdown",
   "source": [
    "3. **Public and Corporate Sentiment (20%):** \n",
    "\n",
    "\n",
    "Surveys and reports on the general sentiment towards AI safety versus capabilities.\n",
    "\n",
    "Suppose a survey indicated 60% of public and corporate sentiment leaned towards AI safety, while 40% focused on capabilities.\n",
    "\n",
    "- Safety Sentiment: 60%\n",
    "- Capabilities Sentiment: 40%\n",
    "\n",
    "-- NEDEN 20?\n",
    "- **Score Calculation:** 60% * 20 = 12 for Safety, 40% * 20 = 8 for Capabilities"
   ],
   "id": "79b3850f729950c2"
  },
  {
   "metadata": {},
   "cell_type": "markdown",
   "source": [
    "4. **Existential Risks (10%):** \n",
    "\n",
    "\n",
    "Efforts and advancements in addressing existential risks associated with AI.\n",
    "\n",
    "Assess efforts in mitigating existential risks. Suppose efforts were rated at 6 out of 10.\n",
    "\n",
    "- Existential Risk Mitigation: 6/10\n",
    "\n",
    "\n",
    "- **Score Calculation:** (6 / 10) * 10 = 6 for Safety"
   ],
   "id": "a7efed52559b9b1e"
  },
  {
   "metadata": {},
   "cell_type": "markdown",
   "source": "**Aggregating Scores**",
   "id": "6b1473c84c8dba6"
  },
  {
   "metadata": {},
   "cell_type": "markdown",
   "source": [
    "Aggregate the scores for Capabilities and Safety:\n",
    "\n",
    "- Capabilities: 24 (Investment Sizes) + 8 (Sentiment) = 32\n",
    "- Safety: 16 (Investment Sizes) + 24 (Regulatory) + 12 (Sentiment) + 6 (Existential) = 58"
   ],
   "id": "8826d1606514c59c"
  },
  {
   "metadata": {},
   "cell_type": "markdown",
   "source": "**Calculating the Index**",
   "id": "e7a16478e45c0cf9"
  },
  {
   "metadata": {},
   "cell_type": "markdown",
   "source": [
    "The index can be calculated as a proportion of the Capabilities score to the total score (Capabilities + Safety):\n",
    "\n",
    "**Index Calculation:** (Capabilities Score / Total Score) * 100 = (32 / (32 + 58)) * 100 = 35.56\n",
    "\n",
    "This value indicates a balance leaning more towards safety due to the high regulatory impact and public sentiment favoring safety."
   ],
   "id": "fd21600f7dd6e295"
  },
  {
   "metadata": {},
   "cell_type": "markdown",
   "source": "**Summary for Q2 2024**",
   "id": "6d4506b6efe067cd"
  },
  {
   "metadata": {},
   "cell_type": "markdown",
   "source": [
    "- **Capabilities Score:** 32\n",
    "- **Safety Score:** 58\n",
    "- **Index:** 35.56"
   ],
   "id": "6c9bc9058c8b1427"
  },
  {
   "metadata": {},
   "cell_type": "markdown",
   "source": "**Conclusion**",
   "id": "35a58c25ebc4aa72"
  },
  {
   "metadata": {},
   "cell_type": "markdown",
   "source": "This detailed analytical approach provides a structured way to calculate the AI Capabilities vs. Safety Index, ensuring transparency and reproducibility. By assigning weights and scoring each metric, we can objectively determine the balance between AI capabilities and safety for each quarter.",
   "id": "f1ee66cfb7c46129"
  },
  {
   "metadata": {},
   "cell_type": "markdown",
   "source": "",
   "id": "e2bc2a375e49a458"
  }
 ],
 "metadata": {
  "kernelspec": {
   "display_name": "Python 3",
   "language": "python",
   "name": "python3"
  },
  "language_info": {
   "codemirror_mode": {
    "name": "ipython",
    "version": 2
   },
   "file_extension": ".py",
   "mimetype": "text/x-python",
   "name": "python",
   "nbconvert_exporter": "python",
   "pygments_lexer": "ipython2",
   "version": "2.7.6"
  }
 },
 "nbformat": 4,
 "nbformat_minor": 5
}
